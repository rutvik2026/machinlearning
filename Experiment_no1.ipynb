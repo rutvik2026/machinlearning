{
  "nbformat": 4,
  "nbformat_minor": 0,
  "metadata": {
    "colab": {
      "provenance": [],
      "authorship_tag": "ABX9TyPSnUgMNtmiWzwFrsfh0Jok",
      "include_colab_link": true
    },
    "kernelspec": {
      "name": "python3",
      "display_name": "Python 3"
    },
    "language_info": {
      "name": "python"
    }
  },
  "cells": [
    {
      "cell_type": "markdown",
      "metadata": {
        "id": "view-in-github",
        "colab_type": "text"
      },
      "source": [
        "<a href=\"https://colab.research.google.com/github/rutvik2026/machinlearning/blob/main/Experiment_no1.ipynb\" target=\"_parent\"><img src=\"https://colab.research.google.com/assets/colab-badge.svg\" alt=\"Open In Colab\"/></a>"
      ]
    },
    {
      "cell_type": "code",
      "execution_count": 1,
      "metadata": {
        "colab": {
          "base_uri": "https://localhost:8080/"
        },
        "id": "sWfKN60AbuBW",
        "outputId": "d024866e-7045-42fd-e268-015dafd23790"
      },
      "outputs": [
        {
          "output_type": "stream",
          "name": "stdout",
          "text": [
            "Enter a redius3\n",
            "28.259999999999998\n"
          ]
        }
      ],
      "source": [
        "r=int(input(\"Enter a redius\"))\n",
        "a=3.14*r*r\n",
        "print(a)"
      ]
    }
  ]
}